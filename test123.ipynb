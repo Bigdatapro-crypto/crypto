{
 "cells": [
  {
   "cell_type": "markdown",
   "id": "8b443336",
   "metadata": {},
   "source": [
    "파일 업로드 아무거나\n",
    "마크다운"
   ]
  },
  {
   "cell_type": "code",
   "execution_count": null,
   "id": "40b12c6c",
   "metadata": {},
   "outputs": [],
   "source": []
  }
 ],
 "metadata": {
  "language_info": {
   "name": "python"
  }
 },
 "nbformat": 4,
 "nbformat_minor": 5
}
